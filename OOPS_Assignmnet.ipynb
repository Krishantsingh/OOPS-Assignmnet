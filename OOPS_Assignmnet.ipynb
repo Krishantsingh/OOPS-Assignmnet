{
  "nbformat": 4,
  "nbformat_minor": 0,
  "metadata": {
    "colab": {
      "provenance": [],
      "authorship_tag": "ABX9TyOXQhtfD8oL26DdJU/CRCI3",
      "include_colab_link": true
    },
    "kernelspec": {
      "name": "python3",
      "display_name": "Python 3"
    },
    "language_info": {
      "name": "python"
    }
  },
  "cells": [
    {
      "cell_type": "markdown",
      "metadata": {
        "id": "view-in-github",
        "colab_type": "text"
      },
      "source": [
        "<a href=\"https://colab.research.google.com/github/Krishantsingh/OOPS-Assignmnet/blob/main/OOPS_Assignmnet.ipynb\" target=\"_parent\"><img src=\"https://colab.research.google.com/assets/colab-badge.svg\" alt=\"Open In Colab\"/></a>"
      ]
    },
    {
      "cell_type": "code",
      "execution_count": null,
      "metadata": {
        "id": "WCAI-Ed5GMau"
      },
      "outputs": [],
      "source": []
    },
    {
      "cell_type": "markdown",
      "source": [
        " 1. What are the five key concepts of Object-Oriented Programming (OOP)?\n",
        "\n",
        "   =The five major key concepts of Object-Oriented Programming are as follow.\n",
        "\n",
        "     i.Encapsulation:\n",
        "\n",
        "       -Encapsulation is a methods that operate on the data into a single unit. It restricts direct access to some of the object's components, maintaining control over how data is accessed or modified.Like private data, Public data, Priotected data.\n",
        "\n",
        "     ii. Polymorphism\n",
        "\n",
        "       -Polymorphism allows objects of different classes to be treated as objects of a common superclass. It helps to perform same operation differently into different classes. For an example,A draw() method in a Shape class can be overridden by subclasses like Circle and Square to provide specific drawing behavior.\n",
        "\n",
        "      iii. Inheritance:\n",
        "\n",
        "        - It allows a new child class to inherit propertiess and method from a existing praent class. It helps in reuse and uitlization of codes and methods. It is of many type like single inheritance, Multiple Inheritance, Hyprid Inheritance etc.\n",
        "\n",
        "      iv. Abstraction:\n",
        "\n",
        "        -It is a concept of opps that hides the complex implementation details of a code and only show necessary data. Its class can not make objects. It is denoted by @abc.abstractmethod.\n",
        "\n",
        "      v. Association, Aggregation, and Composition (relationships):\n",
        "\n",
        "         Association:\n",
        "          Defines a relationship between two classes, which can be one-to-one, one-to-many, or many-to-many.\n",
        "        Aggregation:\n",
        "          A special type of association where a class owns another class but both can exist independently.\n",
        "       Composition:\n",
        "          A stronger form of association where one class cannot exist without the other"
      ],
      "metadata": {
        "id": "J_wdG8WZGW4h"
      }
    },
    {
      "cell_type": "markdown",
      "source": [
        "2.  Write a Python class for a `Car` with attributes for `make`, `model`, and `year`. Include a method to display\n",
        "the car's information."
      ],
      "metadata": {
        "id": "NmtS-YHHNuxQ"
      }
    },
    {
      "cell_type": "code",
      "source": [
        "class Car:\n",
        "  def __init__(self,make,model,year):\n",
        "    self.make = make\n",
        "    self.model = model\n",
        "    self.year = year\n",
        "\n",
        "  def show_car_info(self):\n",
        "      print(self.make)\n",
        "      print(self.model)\n",
        "      print(self.year)"
      ],
      "metadata": {
        "id": "jBgI3dF7Nq3Q"
      },
      "execution_count": null,
      "outputs": []
    },
    {
      "cell_type": "code",
      "source": [
        "c= Car(\"BMW\",\"M5CS\",\"2024\")"
      ],
      "metadata": {
        "id": "S1uMZZVQPXwS"
      },
      "execution_count": null,
      "outputs": []
    },
    {
      "cell_type": "code",
      "source": [
        "c.show_car_info()"
      ],
      "metadata": {
        "colab": {
          "base_uri": "https://localhost:8080/"
        },
        "id": "axt9w8VwPoeo",
        "outputId": "1d4a167e-f1cf-430c-84a1-0fa73bf3aa91"
      },
      "execution_count": null,
      "outputs": [
        {
          "output_type": "stream",
          "name": "stdout",
          "text": [
            "BMW\n",
            "M5CS\n",
            "2024\n"
          ]
        }
      ]
    },
    {
      "cell_type": "markdown",
      "source": [
        "3.  Explain the difference between instance methods and class methods. Provide an example of each.\n",
        "\n",
        " =  Instance method is a type of method in which we have to make object of the class. we use self as parameter. Whereas Class method is a type of method in which we can call any mthod directly with the method name. we use cls as parameter of the function.\n",
        "\n",
        " Example of instance method and class method,"
      ],
      "metadata": {
        "id": "WZ2pep6NRL9t"
      }
    },
    {
      "cell_type": "code",
      "source": [
        "# Instance Method\n",
        "class Bike:\n",
        "  def __init__(self,name,price):\n",
        "    self.name = name\n",
        "    self.price = price\n",
        "\n"
      ],
      "metadata": {
        "id": "4cp9v8nZPrSu"
      },
      "execution_count": 2,
      "outputs": []
    },
    {
      "cell_type": "code",
      "source": [
        "b=Bike(\"ZX10R\",\"20 Lakhs\")"
      ],
      "metadata": {
        "id": "EXYSk931xw_U"
      },
      "execution_count": 23,
      "outputs": []
    },
    {
      "cell_type": "code",
      "source": [
        "b.name"
      ],
      "metadata": {
        "colab": {
          "base_uri": "https://localhost:8080/",
          "height": 35
        },
        "id": "X70u8K1IISYb",
        "outputId": "7a65ebc0-6409-4c44-c5a1-b99a483cd847"
      },
      "execution_count": 24,
      "outputs": [
        {
          "output_type": "execute_result",
          "data": {
            "text/plain": [
              "'ZX10R'"
            ],
            "application/vnd.google.colaboratory.intrinsic+json": {
              "type": "string"
            }
          },
          "metadata": {},
          "execution_count": 24
        }
      ]
    },
    {
      "cell_type": "code",
      "source": [
        "b.price"
      ],
      "metadata": {
        "colab": {
          "base_uri": "https://localhost:8080/",
          "height": 35
        },
        "id": "p_FGeEzWIUn8",
        "outputId": "a368a597-573f-44b7-d741-3091d2a03560"
      },
      "execution_count": 25,
      "outputs": [
        {
          "output_type": "execute_result",
          "data": {
            "text/plain": [
              "'20 Lakhs'"
            ],
            "application/vnd.google.colaboratory.intrinsic+json": {
              "type": "string"
            }
          },
          "metadata": {},
          "execution_count": 25
        }
      ]
    },
    {
      "cell_type": "code",
      "source": [
        "# class method\n",
        "class Bike:\n",
        "  def __init__(self,name,price):\n",
        "    self.name = name\n",
        "    self.price = price\n",
        "  @classmethod\n",
        "  def show_bike_info(cls,name):\n",
        "    cls.name = name\n",
        "    print(cls.name)"
      ],
      "metadata": {
        "id": "lCtA5EIyx9Ty"
      },
      "execution_count": 19,
      "outputs": []
    },
    {
      "cell_type": "code",
      "source": [
        "b=Bike.show_bike_info(\"ZX10R\")"
      ],
      "metadata": {
        "id": "z6rfUNRgy8Nv",
        "colab": {
          "base_uri": "https://localhost:8080/"
        },
        "outputId": "7caf9876-80a5-4316-a479-64d3fa5cd4bf"
      },
      "execution_count": 22,
      "outputs": [
        {
          "output_type": "stream",
          "name": "stdout",
          "text": [
            "ZX10R\n"
          ]
        }
      ]
    },
    {
      "cell_type": "markdown",
      "source": [
        "4.  How does Python implement method overloading? Give an example.\n",
        " =  The process of implementing method overloading in python is given below,"
      ],
      "metadata": {
        "id": "9a4FKAf1IjTV"
      }
    },
    {
      "cell_type": "code",
      "source": [
        "# method overloading\n",
        "class Bike:\n",
        "  def show_bike_info(self,name,price):\n",
        "    print(\"The bike is\",name,\"and it's price is\",price)"
      ],
      "metadata": {
        "id": "1aARlJxQyXtj"
      },
      "execution_count": 26,
      "outputs": []
    },
    {
      "cell_type": "code",
      "source": [
        "b=Bike()"
      ],
      "metadata": {
        "id": "cb1gjPtHJ4U2"
      },
      "execution_count": 28,
      "outputs": []
    },
    {
      "cell_type": "code",
      "source": [
        "b.show_bike_info(\"ZX10R\",\"20 Lakhs\")"
      ],
      "metadata": {
        "colab": {
          "base_uri": "https://localhost:8080/"
        },
        "id": "8EI2XbMqJ7Vs",
        "outputId": "11f0fdf4-17e9-4c5e-a077-5dd496df6e4a"
      },
      "execution_count": 29,
      "outputs": [
        {
          "output_type": "stream",
          "name": "stdout",
          "text": [
            "The bike is ZX10R and it's price is 20 Lakhs\n"
          ]
        }
      ]
    },
    {
      "cell_type": "markdown",
      "source": [
        " 5. What are the three types of access modifiers in Python? How are they denoted?\n",
        "\n",
        " =  The three types of access modifiers in python are as follow,\n",
        "\n",
        "   i. Public\n",
        "    - It is a types of access modifier which can be access from inside and outside the class as well.\n",
        "\n",
        "    example"
      ],
      "metadata": {
        "id": "JSnmgOXwKHK0"
      }
    },
    {
      "cell_type": "code",
      "source": [
        "# Public\n",
        "class Bike:\n",
        "  def __init__(self,name):\n",
        "    self.name=name"
      ],
      "metadata": {
        "id": "3jWjUZu6KBks"
      },
      "execution_count": 32,
      "outputs": []
    },
    {
      "cell_type": "code",
      "source": [
        "b=Bike(\"ZX10R\")"
      ],
      "metadata": {
        "id": "CETokbCoLpO1"
      },
      "execution_count": 33,
      "outputs": []
    },
    {
      "cell_type": "code",
      "source": [
        "b.name"
      ],
      "metadata": {
        "colab": {
          "base_uri": "https://localhost:8080/",
          "height": 35
        },
        "id": "PKqGOwP4Lya6",
        "outputId": "7844fdcc-fcce-4c49-c7d6-b67640ebbc15"
      },
      "execution_count": 34,
      "outputs": [
        {
          "output_type": "execute_result",
          "data": {
            "text/plain": [
              "'ZX10R'"
            ],
            "application/vnd.google.colaboratory.intrinsic+json": {
              "type": "string"
            }
          },
          "metadata": {},
          "execution_count": 34
        }
      ]
    },
    {
      "cell_type": "markdown",
      "source": [
        "  ii. Public\n",
        "\n",
        "    - It ia a type of access modifier in attributes and methods are prdifined by (_) single underscore. Data data can't be accessed outside the class.\n",
        "\n",
        "     Example,\n",
        "  "
      ],
      "metadata": {
        "id": "u0nhUhOML0zO"
      }
    },
    {
      "cell_type": "code",
      "source": [
        "# Private\n",
        "class Bike:\n",
        "  def __init__(self,name):\n",
        "    self.__name=name\n",
        "\n",
        "  def show_name(self):\n",
        "    print(self.__name)"
      ],
      "metadata": {
        "id": "C1lZWooQLzwV"
      },
      "execution_count": 35,
      "outputs": []
    },
    {
      "cell_type": "code",
      "source": [
        "b=Bike(\"Zx10R\")"
      ],
      "metadata": {
        "id": "BcwvdEFORXQC"
      },
      "execution_count": 36,
      "outputs": []
    },
    {
      "cell_type": "code",
      "source": [
        "b.name"
      ],
      "metadata": {
        "colab": {
          "base_uri": "https://localhost:8080/",
          "height": 141
        },
        "id": "3MRqzOujRcCb",
        "outputId": "fdcaa847-f621-4cb0-aef0-85b991d342a0"
      },
      "execution_count": 37,
      "outputs": [
        {
          "output_type": "error",
          "ename": "AttributeError",
          "evalue": "'Bike' object has no attribute 'name'",
          "traceback": [
            "\u001b[0;31m---------------------------------------------------------------------------\u001b[0m",
            "\u001b[0;31mAttributeError\u001b[0m                            Traceback (most recent call last)",
            "\u001b[0;32m<ipython-input-37-45bc9755420c>\u001b[0m in \u001b[0;36m<cell line: 1>\u001b[0;34m()\u001b[0m\n\u001b[0;32m----> 1\u001b[0;31m \u001b[0mb\u001b[0m\u001b[0;34m.\u001b[0m\u001b[0mname\u001b[0m\u001b[0;34m\u001b[0m\u001b[0;34m\u001b[0m\u001b[0m\n\u001b[0m",
            "\u001b[0;31mAttributeError\u001b[0m: 'Bike' object has no attribute 'name'"
          ]
        }
      ]
    },
    {
      "cell_type": "code",
      "source": [
        "b.show_name()"
      ],
      "metadata": {
        "colab": {
          "base_uri": "https://localhost:8080/"
        },
        "id": "4Yz71QQURfvy",
        "outputId": "b8ee4e40-a54f-4b8e-9f5a-4107dee71669"
      },
      "execution_count": 38,
      "outputs": [
        {
          "output_type": "stream",
          "name": "stdout",
          "text": [
            "Zx10R\n"
          ]
        }
      ]
    },
    {
      "cell_type": "markdown",
      "source": [
        "iii. Protected\n",
        "\n",
        "  - It is a tytpe of access modifier ij which attributes and method are predifined by single underscore(_). The methods and attrubutes can't be access outside the class.\n",
        "\n",
        "  Example,\n",
        "\n"
      ],
      "metadata": {
        "id": "Xa3KF-l8RkCW"
      }
    },
    {
      "cell_type": "code",
      "source": [
        "#protected\n",
        "class Bike:\n",
        "  def __init__(self,name):\n",
        "    self._name = name\n",
        "\n",
        "  def show_name(self):\n",
        "    print(self._name)"
      ],
      "metadata": {
        "id": "aTFb1iwLRhz2"
      },
      "execution_count": 39,
      "outputs": []
    },
    {
      "cell_type": "code",
      "source": [
        "b=Bike(\"ZX10R\")"
      ],
      "metadata": {
        "id": "Ymv8eMdoSQm5"
      },
      "execution_count": 40,
      "outputs": []
    },
    {
      "cell_type": "code",
      "source": [
        "b.name"
      ],
      "metadata": {
        "colab": {
          "base_uri": "https://localhost:8080/",
          "height": 141
        },
        "id": "yiDj4OZMSUYA",
        "outputId": "d807d8f9-66d7-4a41-c436-b0a98a9d1419"
      },
      "execution_count": 41,
      "outputs": [
        {
          "output_type": "error",
          "ename": "AttributeError",
          "evalue": "'Bike' object has no attribute 'name'",
          "traceback": [
            "\u001b[0;31m---------------------------------------------------------------------------\u001b[0m",
            "\u001b[0;31mAttributeError\u001b[0m                            Traceback (most recent call last)",
            "\u001b[0;32m<ipython-input-41-45bc9755420c>\u001b[0m in \u001b[0;36m<cell line: 1>\u001b[0;34m()\u001b[0m\n\u001b[0;32m----> 1\u001b[0;31m \u001b[0mb\u001b[0m\u001b[0;34m.\u001b[0m\u001b[0mname\u001b[0m\u001b[0;34m\u001b[0m\u001b[0;34m\u001b[0m\u001b[0m\n\u001b[0m",
            "\u001b[0;31mAttributeError\u001b[0m: 'Bike' object has no attribute 'name'"
          ]
        }
      ]
    },
    {
      "cell_type": "code",
      "source": [
        "b.show_name()"
      ],
      "metadata": {
        "colab": {
          "base_uri": "https://localhost:8080/"
        },
        "id": "-QF66Z4HSWSv",
        "outputId": "41ee6d65-c66d-485b-9977-679cf489a1b8"
      },
      "execution_count": 42,
      "outputs": [
        {
          "output_type": "stream",
          "name": "stdout",
          "text": [
            "ZX10R\n"
          ]
        }
      ]
    },
    {
      "cell_type": "markdown",
      "source": [
        "6.  Describe the five types of inheritance in Python. Provide a simple example of multiple inheritance.\n",
        "\n",
        " = The five types of inheritance in python are ass follow,\n",
        "\n",
        "   i. Single Inheritance:\n",
        "     - It is a type inheritance in which a child class has only one parent class to inherit data\n",
        "\n",
        "     example"
      ],
      "metadata": {
        "id": "QQOYd9CgSbNX"
      }
    },
    {
      "cell_type": "code",
      "source": [
        "class Bike:\n",
        "  def bike_info(self):\n",
        "    print(\"Inside bike class\")\n",
        "\n",
        "class Zx10r(Bike):\n",
        "  def zx10r_info(self):\n",
        "     print(\"inside zx10r class\")"
      ],
      "metadata": {
        "id": "vU_9rVlPSX87"
      },
      "execution_count": 45,
      "outputs": []
    },
    {
      "cell_type": "code",
      "source": [
        "z=Zx10r()"
      ],
      "metadata": {
        "id": "b4O8XGaWTzLo"
      },
      "execution_count": 46,
      "outputs": []
    },
    {
      "cell_type": "code",
      "source": [
        "z.bike_info()"
      ],
      "metadata": {
        "colab": {
          "base_uri": "https://localhost:8080/"
        },
        "id": "hTEq6smEULQS",
        "outputId": "8c7890ac-7657-4dad-9fb9-cb99d4626c10"
      },
      "execution_count": 48,
      "outputs": [
        {
          "output_type": "stream",
          "name": "stdout",
          "text": [
            "Inside bike class\n"
          ]
        }
      ]
    },
    {
      "cell_type": "code",
      "source": [
        "z.zx10r_info()"
      ],
      "metadata": {
        "colab": {
          "base_uri": "https://localhost:8080/"
        },
        "id": "JAymTmjYUNcN",
        "outputId": "861aff10-b5af-4d58-8d2e-3e6ccd7d72b2"
      },
      "execution_count": 49,
      "outputs": [
        {
          "output_type": "stream",
          "name": "stdout",
          "text": [
            "inside zx10r class\n"
          ]
        }
      ]
    },
    {
      "cell_type": "markdown",
      "source": [
        "ii. Multi-Level Inheritance\n",
        "\n",
        "  - In this type of inheritance data inherit from one class to many class in vertical line.\n",
        "   Example,"
      ],
      "metadata": {
        "id": "YvKmhc8HURrt"
      }
    },
    {
      "cell_type": "code",
      "source": [
        "class Father:\n",
        "  def father_info(self):\n",
        "    print(\"Inside father class\")\n",
        "\n",
        "class Son(Father):\n",
        "  def son_info(self):\n",
        "    print(\"Inside son class\")\n",
        "\n",
        "class GrandSon(Son):\n",
        "  def grand_son_info(self):\n",
        "    print(\"Inside grand son class\")"
      ],
      "metadata": {
        "id": "SGsaXjogUQEj"
      },
      "execution_count": 54,
      "outputs": []
    },
    {
      "cell_type": "code",
      "source": [
        "gs=GrandSon()"
      ],
      "metadata": {
        "id": "IvWhcXYwVuOc"
      },
      "execution_count": 55,
      "outputs": []
    },
    {
      "cell_type": "code",
      "source": [
        "gs.grand_son_info()"
      ],
      "metadata": {
        "colab": {
          "base_uri": "https://localhost:8080/"
        },
        "id": "cxRH9KFQV8bD",
        "outputId": "b8b54dc8-9f61-4435-c3ab-0afb5423afda"
      },
      "execution_count": 57,
      "outputs": [
        {
          "output_type": "stream",
          "name": "stdout",
          "text": [
            "Inside grand son class\n"
          ]
        }
      ]
    },
    {
      "cell_type": "code",
      "source": [
        "gs.father_info()"
      ],
      "metadata": {
        "colab": {
          "base_uri": "https://localhost:8080/"
        },
        "id": "DhVUmk1MWBnz",
        "outputId": "20811cf2-519e-4052-89ee-18b97f1a5793"
      },
      "execution_count": 58,
      "outputs": [
        {
          "output_type": "stream",
          "name": "stdout",
          "text": [
            "Inside father class\n"
          ]
        }
      ]
    },
    {
      "cell_type": "code",
      "source": [
        "gs.son_info()"
      ],
      "metadata": {
        "colab": {
          "base_uri": "https://localhost:8080/"
        },
        "id": "nwGg5sDyWEWC",
        "outputId": "2fb63c72-1258-47e6-8514-44058517a917"
      },
      "execution_count": 60,
      "outputs": [
        {
          "output_type": "stream",
          "name": "stdout",
          "text": [
            "Inside son class\n"
          ]
        }
      ]
    },
    {
      "cell_type": "markdown",
      "source": [
        "iii. Multiple Inheritance:\n",
        "\n",
        "  - In this Inheritance one child class inherit data from two parent class.\n",
        "\n",
        "    example"
      ],
      "metadata": {
        "id": "XLZ1nX8_XF11"
      }
    },
    {
      "cell_type": "code",
      "source": [
        "class GrandFather:\n",
        "  def grand_father_info(self):\n",
        "    print(\"inside grand father class\")\n",
        "\n",
        "class Father:\n",
        "  def father_info(self):\n",
        "    print(\"Inside father class\")\n",
        "\n",
        "class Son(GrandFather,Father):\n",
        "  def son_info(self):\n",
        "    print(\"Inside son class\")"
      ],
      "metadata": {
        "id": "b3cc05MrXOfU"
      },
      "execution_count": 61,
      "outputs": []
    },
    {
      "cell_type": "code",
      "source": [
        "s=Son()"
      ],
      "metadata": {
        "id": "Moxj0lllX0MJ"
      },
      "execution_count": 62,
      "outputs": []
    },
    {
      "cell_type": "code",
      "source": [
        "s.son_info()"
      ],
      "metadata": {
        "colab": {
          "base_uri": "https://localhost:8080/"
        },
        "id": "mCKtB3wMX2CZ",
        "outputId": "b5cbe5fc-2ca1-496e-91e0-e87e235cb807"
      },
      "execution_count": 63,
      "outputs": [
        {
          "output_type": "stream",
          "name": "stdout",
          "text": [
            "Inside son class\n"
          ]
        }
      ]
    },
    {
      "cell_type": "code",
      "source": [
        "s.father_info()"
      ],
      "metadata": {
        "colab": {
          "base_uri": "https://localhost:8080/"
        },
        "id": "-5yXzB7ZX3j6",
        "outputId": "15e5e860-a7ca-4a42-b5c0-6936498a5612"
      },
      "execution_count": 64,
      "outputs": [
        {
          "output_type": "stream",
          "name": "stdout",
          "text": [
            "Inside father class\n"
          ]
        }
      ]
    },
    {
      "cell_type": "code",
      "source": [
        "s.grand_father_info()"
      ],
      "metadata": {
        "colab": {
          "base_uri": "https://localhost:8080/"
        },
        "id": "dQEwbQuZX4tb",
        "outputId": "30562b65-99dd-4e52-f715-ffd673b946bb"
      },
      "execution_count": 65,
      "outputs": [
        {
          "output_type": "stream",
          "name": "stdout",
          "text": [
            "inside grand father class\n"
          ]
        }
      ]
    },
    {
      "cell_type": "markdown",
      "source": [
        "iv. Hierarchical Inheritance:\n",
        "\n",
        "  - In this type of inheritance two child class inherit data from one single parent class.\n",
        "\n",
        "     Example,\n",
        "    "
      ],
      "metadata": {
        "id": "hvtEKqczYGAu"
      }
    },
    {
      "cell_type": "code",
      "source": [
        "class GrandFather:\n",
        "  def grand_father_info(self):\n",
        "    print(\"Inside grand father class\")\n",
        "\n",
        "class Father(GrandFather):\n",
        "  def father_info(self):\n",
        "    print(\"Inside father class\")\n",
        "\n",
        "class Son(GrandFather):\n",
        "  def son_info(self):\n",
        "    print(\"Inside son class\")"
      ],
      "metadata": {
        "id": "iWkHFPyrYrWJ"
      },
      "execution_count": 67,
      "outputs": []
    },
    {
      "cell_type": "code",
      "source": [
        "f=Father()"
      ],
      "metadata": {
        "id": "2GKELinoZiPv"
      },
      "execution_count": 68,
      "outputs": []
    },
    {
      "cell_type": "code",
      "source": [
        "f.grand_father_info()"
      ],
      "metadata": {
        "colab": {
          "base_uri": "https://localhost:8080/"
        },
        "id": "w0zMc6gmZ8Yr",
        "outputId": "80d4eadc-3588-4cab-d9e3-01a7aab169bd"
      },
      "execution_count": 69,
      "outputs": [
        {
          "output_type": "stream",
          "name": "stdout",
          "text": [
            "Inside grand father class\n"
          ]
        }
      ]
    },
    {
      "cell_type": "code",
      "source": [
        "f.father_info()\n"
      ],
      "metadata": {
        "colab": {
          "base_uri": "https://localhost:8080/"
        },
        "id": "etY1xvWoZ9o_",
        "outputId": "ad7e5838-c9bf-4b9a-c4c6-80c2fa149ae7"
      },
      "execution_count": 70,
      "outputs": [
        {
          "output_type": "stream",
          "name": "stdout",
          "text": [
            "Inside father class\n"
          ]
        }
      ]
    },
    {
      "cell_type": "code",
      "source": [
        "s=Son()"
      ],
      "metadata": {
        "id": "rsGGNhtdaBfs"
      },
      "execution_count": 71,
      "outputs": []
    },
    {
      "cell_type": "code",
      "source": [
        "s.son_info()"
      ],
      "metadata": {
        "colab": {
          "base_uri": "https://localhost:8080/"
        },
        "id": "AhrVV7MtaDcJ",
        "outputId": "374455bc-7d66-4682-c904-9764422cdb9f"
      },
      "execution_count": 72,
      "outputs": [
        {
          "output_type": "stream",
          "name": "stdout",
          "text": [
            "Inside son class\n"
          ]
        }
      ]
    },
    {
      "cell_type": "code",
      "source": [
        "s.grand_father_info()"
      ],
      "metadata": {
        "colab": {
          "base_uri": "https://localhost:8080/"
        },
        "id": "UCZLTIKWaE79",
        "outputId": "dceb7a53-269e-4b90-fb93-85bfe2b691cb"
      },
      "execution_count": 73,
      "outputs": [
        {
          "output_type": "stream",
          "name": "stdout",
          "text": [
            "Inside grand father class\n"
          ]
        }
      ]
    },
    {
      "cell_type": "markdown",
      "source": [
        "v. Hybrid Inheritance:\n",
        "  \n",
        "   -  It is the mix of all type of Inheritance.\n",
        "\n",
        "    example,"
      ],
      "metadata": {
        "id": "QsSgKy1BaJT0"
      }
    },
    {
      "cell_type": "code",
      "source": [
        "class Vehicle:\n",
        "  def vehicle_info(self):\n",
        "    print(\"Inside vehicle class\")\n",
        "\n",
        "class Car(Vehicle):\n",
        "  def car_info(self):\n",
        "    print(\"Inside car class\")\n",
        "\n",
        "class Truck(Vehicle):\n",
        "  def truck_info(self):\n",
        "    print(\"Inside truck class\")\n",
        "\n",
        "class SportCar(Car,Truck):\n",
        "  def sport_car_info(self):\n",
        "    print(\"Inside sport car class\")"
      ],
      "metadata": {
        "id": "btL_e9dMaGJD"
      },
      "execution_count": 75,
      "outputs": []
    },
    {
      "cell_type": "code",
      "source": [
        "obj1=SportCar()"
      ],
      "metadata": {
        "id": "5EIXQe6ka6Vq"
      },
      "execution_count": 76,
      "outputs": []
    },
    {
      "cell_type": "code",
      "source": [
        "obj1.car_info()\n"
      ],
      "metadata": {
        "colab": {
          "base_uri": "https://localhost:8080/"
        },
        "id": "7fbBLdeLbY8F",
        "outputId": "b832f5a3-3b68-4c94-97d1-91001755a20e"
      },
      "execution_count": 77,
      "outputs": [
        {
          "output_type": "stream",
          "name": "stdout",
          "text": [
            "Inside car class\n"
          ]
        }
      ]
    },
    {
      "cell_type": "code",
      "source": [
        "obj1.truck_info()"
      ],
      "metadata": {
        "colab": {
          "base_uri": "https://localhost:8080/"
        },
        "id": "PqZ8L2eObdQ6",
        "outputId": "89f745c4-900e-4ba2-a591-fffd6550b154"
      },
      "execution_count": 78,
      "outputs": [
        {
          "output_type": "stream",
          "name": "stdout",
          "text": [
            "Inside truck class\n"
          ]
        }
      ]
    },
    {
      "cell_type": "code",
      "source": [
        "obj1.sport_car_info()"
      ],
      "metadata": {
        "colab": {
          "base_uri": "https://localhost:8080/"
        },
        "id": "Nw5ypQpMbnVw",
        "outputId": "e66c83d3-1ddc-47f5-b369-dd46fbdb38f7"
      },
      "execution_count": 79,
      "outputs": [
        {
          "output_type": "stream",
          "name": "stdout",
          "text": [
            "Inside sport car class\n"
          ]
        }
      ]
    },
    {
      "cell_type": "markdown",
      "source": [
        "7. . What is the Method Resolution Order (MRO) in Python? How can you retrieve it programmatically?\n",
        "\n",
        "  -  Method Resolution Order (MRO) is the sequence in which Python looks for a method or attribute in a hierarchy of classes. Python uses the C3 linearization algorithm to determine the MRO.\n",
        "\n",
        "  "
      ],
      "metadata": {
        "id": "P0hnQGfNbwUr"
      }
    },
    {
      "cell_type": "code",
      "source": [
        "# MRO retrieve\n",
        "class A:\n",
        "    pass\n",
        "\n",
        "class B(A):\n",
        "    pass\n",
        "\n",
        "class C(B):\n",
        "    pass\n",
        "\n",
        "print(C.__mro__)"
      ],
      "metadata": {
        "colab": {
          "base_uri": "https://localhost:8080/"
        },
        "id": "-rzc3hLwfSHp",
        "outputId": "a5658881-c219-4150-8236-820def3ed3c6"
      },
      "execution_count": 80,
      "outputs": [
        {
          "output_type": "stream",
          "name": "stdout",
          "text": [
            "(<class '__main__.C'>, <class '__main__.B'>, <class '__main__.A'>, <class 'object'>)\n"
          ]
        }
      ]
    },
    {
      "cell_type": "markdown",
      "source": [
        " 8. Create an abstract base class `Shape` with an abstract method `area()`. Then create two subclasses\n",
        "`Circle` and `Rectangle` that implement the `area()` method."
      ],
      "metadata": {
        "id": "UX5Ugq3TfdBK"
      }
    },
    {
      "cell_type": "code",
      "source": [
        "from abc import abstractmethod\n",
        "class Shape:\n",
        "  @abstractmethod\n",
        "  def calculate_area(self):\n",
        "    pass\n"
      ],
      "metadata": {
        "id": "516NaKm9fYqk"
      },
      "execution_count": 81,
      "outputs": []
    },
    {
      "cell_type": "code",
      "source": [
        "class Rectangle(Shape):\n",
        "  def __init__(self,length,breadth):\n",
        "    self.length = length\n",
        "    self.breadth = breadth\n",
        "  def calculate_area(self):\n",
        "    return self.length*self.breadth\n",
        "\n",
        "class Circle(Shape):\n",
        "  def __init__(self,radius):\n",
        "    self.radius = radius\n",
        "  def calculate_area(self):\n",
        "    return 3.14*self.radius**2"
      ],
      "metadata": {
        "id": "cw-0xQQdf6ee"
      },
      "execution_count": 88,
      "outputs": []
    },
    {
      "cell_type": "code",
      "source": [
        "c=Circle(5)"
      ],
      "metadata": {
        "id": "jMNjEqkBgv0o"
      },
      "execution_count": 85,
      "outputs": []
    },
    {
      "cell_type": "code",
      "source": [
        "c.calculate_area()"
      ],
      "metadata": {
        "colab": {
          "base_uri": "https://localhost:8080/"
        },
        "id": "rM13xzdKg9vT",
        "outputId": "f4947d66-12d1-424f-e0bd-c9f8c6f53e4e"
      },
      "execution_count": 86,
      "outputs": [
        {
          "output_type": "execute_result",
          "data": {
            "text/plain": [
              "78.5"
            ]
          },
          "metadata": {},
          "execution_count": 86
        }
      ]
    },
    {
      "cell_type": "code",
      "source": [
        "r=Rectangle(5,10)"
      ],
      "metadata": {
        "id": "mSAWsolPg_IG"
      },
      "execution_count": 89,
      "outputs": []
    },
    {
      "cell_type": "code",
      "source": [
        "r.calculate_area()"
      ],
      "metadata": {
        "colab": {
          "base_uri": "https://localhost:8080/"
        },
        "id": "Lqtnob6hhDea",
        "outputId": "5598ded3-eb0a-4d3e-d18d-b5c8253e6249"
      },
      "execution_count": 90,
      "outputs": [
        {
          "output_type": "execute_result",
          "data": {
            "text/plain": [
              "50"
            ]
          },
          "metadata": {},
          "execution_count": 90
        }
      ]
    },
    {
      "cell_type": "markdown",
      "source": [
        "9. Demonstrate polymorphism by creating a function that can work with different shape objects to calculate\n",
        "and print their areas."
      ],
      "metadata": {
        "id": "c6aBzyJQhOvY"
      }
    },
    {
      "cell_type": "code",
      "source": [
        "from math import pi\n",
        "class Shape:\n",
        "  def calculate_area(self):\n",
        "    raise NotImplementedError(\"Subclass must implement the area method\")"
      ],
      "metadata": {
        "id": "y75FTh2KhLdE"
      },
      "execution_count": 95,
      "outputs": []
    },
    {
      "cell_type": "code",
      "source": [
        "class Rectangle:\n",
        "  def __init__(self,length,breadth):\n",
        "    self.length = length\n",
        "    self.breadth = breadth\n",
        "  def calculate_area(self):\n",
        "    return self.length*self.breadth\n",
        "\n",
        "class circle:\n",
        "  def __init__(self,radius):\n",
        "    self.radius =radius\n",
        "  def calculate_area(self,radius):\n",
        "    return 3.14*radius**2"
      ],
      "metadata": {
        "id": "zRGXkRnhiE6B"
      },
      "execution_count": 97,
      "outputs": []
    },
    {
      "cell_type": "code",
      "source": [
        "r=Rectangle(4,8)"
      ],
      "metadata": {
        "id": "yqfbmxQ2iRMQ"
      },
      "execution_count": 98,
      "outputs": []
    },
    {
      "cell_type": "code",
      "source": [
        "r.calculate_area()"
      ],
      "metadata": {
        "colab": {
          "base_uri": "https://localhost:8080/"
        },
        "id": "WiDXA6xijMUa",
        "outputId": "2dc9c9b3-ee0b-4e3d-aee9-8d6a7db51e7d"
      },
      "execution_count": 99,
      "outputs": [
        {
          "output_type": "execute_result",
          "data": {
            "text/plain": [
              "32"
            ]
          },
          "metadata": {},
          "execution_count": 99
        }
      ]
    },
    {
      "cell_type": "code",
      "source": [
        "c=Circle(8)"
      ],
      "metadata": {
        "id": "kGicqv9Kjzz1"
      },
      "execution_count": 100,
      "outputs": []
    },
    {
      "cell_type": "code",
      "source": [
        "c.calculate_area()"
      ],
      "metadata": {
        "colab": {
          "base_uri": "https://localhost:8080/"
        },
        "id": "BaBv0Ipij6EY",
        "outputId": "180741e4-8376-421b-ed3f-7a577790df71"
      },
      "execution_count": 101,
      "outputs": [
        {
          "output_type": "execute_result",
          "data": {
            "text/plain": [
              "200.96"
            ]
          },
          "metadata": {},
          "execution_count": 101
        }
      ]
    },
    {
      "cell_type": "markdown",
      "source": [
        "10. Implement encapsulation in a `BankAccount` class with private attributes for `balance` and\n",
        "`account_number`. Include methods for deposit, withdrawal, and balance inquiry"
      ],
      "metadata": {
        "id": "LGpM9J3Hj_ob"
      }
    },
    {
      "cell_type": "code",
      "source": [
        "class Bank:\n",
        "  def __init__(self,balance,account_number):\n",
        "    self.__balance=balance\n",
        "    self.__account_number=account_number\n",
        "\n",
        "  def deposit(self,amount):\n",
        "    self.__balance+=amount\n",
        "\n",
        "  def withdraw(self,amount):\n",
        "    if self.__balance>= amount:\n",
        "      self.__balance-=amount\n",
        "    else:\n",
        "      print(\"Insufficient balance\")\n",
        "\n",
        "  def balance_inquiry(self):\n",
        "    return self.__balance"
      ],
      "metadata": {
        "id": "1M1A8_hlkB7s"
      },
      "execution_count": 103,
      "outputs": []
    },
    {
      "cell_type": "code",
      "source": [
        "b=Bank(25000,8778827282736378)"
      ],
      "metadata": {
        "id": "ltAHfge9lMlj"
      },
      "execution_count": 105,
      "outputs": []
    },
    {
      "cell_type": "code",
      "source": [
        "b.deposit(50000)"
      ],
      "metadata": {
        "id": "68SQl78KldRs"
      },
      "execution_count": 106,
      "outputs": []
    },
    {
      "cell_type": "code",
      "source": [
        "b.balance_inquiry()"
      ],
      "metadata": {
        "colab": {
          "base_uri": "https://localhost:8080/"
        },
        "id": "RbodXbWnlhVS",
        "outputId": "5b4bd817-f49a-4a74-f73e-e4040f9f09da"
      },
      "execution_count": 107,
      "outputs": [
        {
          "output_type": "execute_result",
          "data": {
            "text/plain": [
              "75000"
            ]
          },
          "metadata": {},
          "execution_count": 107
        }
      ]
    },
    {
      "cell_type": "code",
      "source": [
        "b.withdraw(80000)"
      ],
      "metadata": {
        "colab": {
          "base_uri": "https://localhost:8080/"
        },
        "id": "QyuhHiEHlioK",
        "outputId": "d4332004-2f3c-4ced-8cf3-4d661c0fc6c9"
      },
      "execution_count": 108,
      "outputs": [
        {
          "output_type": "stream",
          "name": "stdout",
          "text": [
            "Insufficient balance\n"
          ]
        }
      ]
    },
    {
      "cell_type": "code",
      "source": [
        "b.withdraw(55678)"
      ],
      "metadata": {
        "id": "la-uej0bllp_"
      },
      "execution_count": 109,
      "outputs": []
    },
    {
      "cell_type": "code",
      "source": [
        "b.balance_inquiry()"
      ],
      "metadata": {
        "colab": {
          "base_uri": "https://localhost:8080/"
        },
        "id": "tzet9cLjlpKf",
        "outputId": "0a367193-8500-4593-f516-5ac6e7f966a0"
      },
      "execution_count": 110,
      "outputs": [
        {
          "output_type": "execute_result",
          "data": {
            "text/plain": [
              "19322"
            ]
          },
          "metadata": {},
          "execution_count": 110
        }
      ]
    },
    {
      "cell_type": "markdown",
      "source": [
        "11. . Write a class that overrides the `__str__` and `__add__` magic methods. What will these methods allow\n",
        "you to do?\n",
        "\n",
        " i. __str__:\n",
        "  - This magic method allows to return string representation of any mrthod.\n",
        "\n",
        "ii. __add__:\n",
        "  - This magic method allows you to define custom behavior for the + operator.\n",
        "\n",
        "  Here is the example of a class that overrides the __str__, __add__ magic method,\n",
        "\n"
      ],
      "metadata": {
        "id": "m85jZ3galtjK"
      }
    },
    {
      "cell_type": "code",
      "source": [
        "class Person:\n",
        "  def __init__(self,age):\n",
        "    self.age = age\n",
        "\n",
        "  def __str__(self):\n",
        "    return f\"{self.age} years old\"\n",
        "\n",
        "  def __add__(self,other):\n",
        "    if isinstance(other, Person):\n",
        "       return Person(self.age + other.age)"
      ],
      "metadata": {
        "id": "f3a_0feulxGJ"
      },
      "execution_count": 129,
      "outputs": []
    },
    {
      "cell_type": "code",
      "source": [
        "p1=Person(18)\n",
        "p2=Person(20)\n",
        "p3=p1+p2"
      ],
      "metadata": {
        "id": "PBOIOSgpnv9Z"
      },
      "execution_count": 132,
      "outputs": []
    },
    {
      "cell_type": "code",
      "source": [
        "print(p1)\n",
        "print(p2)\n",
        "print(p3)"
      ],
      "metadata": {
        "colab": {
          "base_uri": "https://localhost:8080/"
        },
        "id": "cdK6Y-0mn0xs",
        "outputId": "e562a0e6-be1f-4e02-c82e-47c1743eb467"
      },
      "execution_count": 131,
      "outputs": [
        {
          "output_type": "stream",
          "name": "stdout",
          "text": [
            "18 years old\n",
            "20 years old\n",
            "38 years old\n"
          ]
        }
      ]
    },
    {
      "cell_type": "markdown",
      "source": [
        "12. Create a decorator that measures and prints the execution time of a function."
      ],
      "metadata": {
        "id": "JAa9CVhRqKVc"
      }
    },
    {
      "cell_type": "code",
      "source": [
        "import time"
      ],
      "metadata": {
        "id": "vsUMRWUMouS5"
      },
      "execution_count": 133,
      "outputs": []
    },
    {
      "cell_type": "code",
      "source": [
        "def timer_decorator(func):\n",
        "  def timer():\n",
        "    start=time.time()\n",
        "    func()\n",
        "    end=time.time()\n",
        "    print(\"The time for execution\",end-start)\n",
        "  return timer"
      ],
      "metadata": {
        "id": "leahrotnqbKC"
      },
      "execution_count": 138,
      "outputs": []
    },
    {
      "cell_type": "code",
      "source": [
        "@timer_decorator\n",
        "def func_test():\n",
        "  print(40000*1000)"
      ],
      "metadata": {
        "id": "lfR82xZcq7HT"
      },
      "execution_count": 139,
      "outputs": []
    },
    {
      "cell_type": "code",
      "source": [
        "func_test()"
      ],
      "metadata": {
        "colab": {
          "base_uri": "https://localhost:8080/"
        },
        "id": "j0HCRSSNrHfZ",
        "outputId": "00836cfc-3816-4295-8c01-7ad5da609506"
      },
      "execution_count": 140,
      "outputs": [
        {
          "output_type": "stream",
          "name": "stdout",
          "text": [
            "40000000\n",
            "The time for execution 4.100799560546875e-05\n"
          ]
        }
      ]
    },
    {
      "cell_type": "markdown",
      "source": [
        " 13. Explain the concept of the Diamond Problem in multiple inheritance. How does Python resolve it?\n",
        "\n",
        " =  The Diamond Problem occurs when a class inherit from 2 or more then 2 class. It will lead to ambiguity in execution of meyhod.\n",
        "\n",
        "   To resolve the dymond problem, Python uses Method Resolution Order(MRO) algorith called c3 linearization.\n",
        "\n",
        "   It menas that the class that is inherited first in the derived class(a,b), that method will be called, in this case method1.\n",
        "\n",
        "   Example\n"
      ],
      "metadata": {
        "id": "nHNLDGKFrdiS"
      }
    },
    {
      "cell_type": "code",
      "source": [
        "class A:\n",
        "  def method1(self):\n",
        "    print(\"Inside method1 of class A\")\n",
        "\n",
        "class B:\n",
        "  def method1(self):\n",
        "    print(\"Inside method1 of class B\")\n",
        "\n",
        "class C(A,B):\n",
        "  def method(self):\n",
        "    print(\"Inside method of class C\")"
      ],
      "metadata": {
        "id": "N3kCNmBVrZD8"
      },
      "execution_count": 141,
      "outputs": []
    },
    {
      "cell_type": "code",
      "source": [
        "c=C()"
      ],
      "metadata": {
        "id": "uNY150HhuFKc"
      },
      "execution_count": 142,
      "outputs": []
    },
    {
      "cell_type": "code",
      "source": [
        "c.method1()"
      ],
      "metadata": {
        "colab": {
          "base_uri": "https://localhost:8080/"
        },
        "id": "DFPotfFduJGl",
        "outputId": "438e98f8-749d-4209-e50b-62b3827c35f6"
      },
      "execution_count": 143,
      "outputs": [
        {
          "output_type": "stream",
          "name": "stdout",
          "text": [
            "Inside method1 of class A\n"
          ]
        }
      ]
    },
    {
      "cell_type": "markdown",
      "source": [
        "14.   Write a class method that keeps track of the number of instances created from a class."
      ],
      "metadata": {
        "id": "atlSEEXhuQu7"
      }
    },
    {
      "cell_type": "code",
      "source": [
        "class InstanceTracker:\n",
        "    instance_count = 0\n",
        "\n",
        "    def __init__(self):\n",
        "        InstanceTracker.instance_count += 1\n",
        "\n",
        "    @classmethod\n",
        "    def get_instance_count(cls):\n",
        "        return cls.instance_count"
      ],
      "metadata": {
        "id": "YCvZ9e7yuMQn"
      },
      "execution_count": 144,
      "outputs": []
    },
    {
      "cell_type": "code",
      "source": [
        "obj1 = InstanceTracker()\n",
        "obj2 = InstanceTracker()\n",
        "obj3 = InstanceTracker()\n"
      ],
      "metadata": {
        "id": "UgGqE1UOykvb"
      },
      "execution_count": 145,
      "outputs": []
    },
    {
      "cell_type": "code",
      "source": [
        "print(InstanceTracker.get_instance_count())"
      ],
      "metadata": {
        "colab": {
          "base_uri": "https://localhost:8080/"
        },
        "id": "b1OVYAO4yoO4",
        "outputId": "08395e98-2a1a-48dd-e952-38b765ab3a6d"
      },
      "execution_count": 146,
      "outputs": [
        {
          "output_type": "stream",
          "name": "stdout",
          "text": [
            "3\n"
          ]
        }
      ]
    },
    {
      "cell_type": "markdown",
      "source": [
        "15.  Implement a static method in a class that checks if a given year is a leap year."
      ],
      "metadata": {
        "id": "0mkDJd1-y6yB"
      }
    },
    {
      "cell_type": "code",
      "source": [
        "class YearUtils:\n",
        "    @staticmethod\n",
        "    def is_leap_year(year):\n",
        "        if (year % 4 == 0 and year % 100 != 0) or (year % 400 == 0):\n",
        "            return True\n",
        "        return False"
      ],
      "metadata": {
        "id": "0SFyOacAypEa"
      },
      "execution_count": 147,
      "outputs": []
    },
    {
      "cell_type": "code",
      "source": [
        "\n",
        "print(YearUtils.is_leap_year(2024))\n",
        "print(YearUtils.is_leap_year(1900))\n",
        "print(YearUtils.is_leap_year(2000))"
      ],
      "metadata": {
        "colab": {
          "base_uri": "https://localhost:8080/"
        },
        "id": "LtLMiXkWzOt5",
        "outputId": "8ce56871-31ca-4023-a19e-46f8e7f9f1ef"
      },
      "execution_count": 148,
      "outputs": [
        {
          "output_type": "stream",
          "name": "stdout",
          "text": [
            "True\n",
            "False\n",
            "True\n"
          ]
        }
      ]
    },
    {
      "cell_type": "code",
      "source": [],
      "metadata": {
        "id": "W3wSqvKfzXS5"
      },
      "execution_count": null,
      "outputs": []
    }
  ]
}